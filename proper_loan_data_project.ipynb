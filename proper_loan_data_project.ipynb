{
 "cells": [
  {
   "cell_type": "markdown",
   "metadata": {},
   "source": [
    "### Prosper Loan Data Exploration"
   ]
  },
  {
   "cell_type": "markdown",
   "metadata": {},
   "source": [
    "In this project I am going to explore the loan data. I haven't yet assessed the data, so there is no specific goal at the moment but I will be looking out for default and completed loans to see if I can see patterns between them."
   ]
  },
  {
   "cell_type": "code",
   "execution_count": 179,
   "metadata": {},
   "outputs": [],
   "source": [
    "import pandas as pd\n",
    "import matplotlib.pyplot as plt\n",
    "import seaborn as sb\n",
    "import numpy as np\n",
    "%matplotlib inline "
   ]
  },
  {
   "cell_type": "code",
   "execution_count": 180,
   "metadata": {},
   "outputs": [
    {
     "data": {
      "text/html": [
       "<div>\n",
       "<style scoped>\n",
       "    .dataframe tbody tr th:only-of-type {\n",
       "        vertical-align: middle;\n",
       "    }\n",
       "\n",
       "    .dataframe tbody tr th {\n",
       "        vertical-align: top;\n",
       "    }\n",
       "\n",
       "    .dataframe thead th {\n",
       "        text-align: right;\n",
       "    }\n",
       "</style>\n",
       "<table border=\"1\" class=\"dataframe\">\n",
       "  <thead>\n",
       "    <tr style=\"text-align: right;\">\n",
       "      <th></th>\n",
       "      <th>ListingKey</th>\n",
       "      <th>ListingNumber</th>\n",
       "      <th>ListingCreationDate</th>\n",
       "      <th>CreditGrade</th>\n",
       "      <th>Term</th>\n",
       "      <th>LoanStatus</th>\n",
       "      <th>ClosedDate</th>\n",
       "      <th>BorrowerAPR</th>\n",
       "      <th>BorrowerRate</th>\n",
       "      <th>LenderYield</th>\n",
       "      <th>...</th>\n",
       "      <th>LP_ServiceFees</th>\n",
       "      <th>LP_CollectionFees</th>\n",
       "      <th>LP_GrossPrincipalLoss</th>\n",
       "      <th>LP_NetPrincipalLoss</th>\n",
       "      <th>LP_NonPrincipalRecoverypayments</th>\n",
       "      <th>PercentFunded</th>\n",
       "      <th>Recommendations</th>\n",
       "      <th>InvestmentFromFriendsCount</th>\n",
       "      <th>InvestmentFromFriendsAmount</th>\n",
       "      <th>Investors</th>\n",
       "    </tr>\n",
       "  </thead>\n",
       "  <tbody>\n",
       "    <tr>\n",
       "      <th>0</th>\n",
       "      <td>1021339766868145413AB3B</td>\n",
       "      <td>193129</td>\n",
       "      <td>2007-08-26 19:09:29.263000000</td>\n",
       "      <td>C</td>\n",
       "      <td>36</td>\n",
       "      <td>Completed</td>\n",
       "      <td>2009-08-14 00:00:00</td>\n",
       "      <td>0.16516</td>\n",
       "      <td>0.1580</td>\n",
       "      <td>0.1380</td>\n",
       "      <td>...</td>\n",
       "      <td>-133.18</td>\n",
       "      <td>0.0</td>\n",
       "      <td>0.0</td>\n",
       "      <td>0.0</td>\n",
       "      <td>0.0</td>\n",
       "      <td>1.0</td>\n",
       "      <td>0</td>\n",
       "      <td>0</td>\n",
       "      <td>0.0</td>\n",
       "      <td>258</td>\n",
       "    </tr>\n",
       "    <tr>\n",
       "      <th>1</th>\n",
       "      <td>10273602499503308B223C1</td>\n",
       "      <td>1209647</td>\n",
       "      <td>2014-02-27 08:28:07.900000000</td>\n",
       "      <td>NaN</td>\n",
       "      <td>36</td>\n",
       "      <td>Current</td>\n",
       "      <td>NaN</td>\n",
       "      <td>0.12016</td>\n",
       "      <td>0.0920</td>\n",
       "      <td>0.0820</td>\n",
       "      <td>...</td>\n",
       "      <td>0.00</td>\n",
       "      <td>0.0</td>\n",
       "      <td>0.0</td>\n",
       "      <td>0.0</td>\n",
       "      <td>0.0</td>\n",
       "      <td>1.0</td>\n",
       "      <td>0</td>\n",
       "      <td>0</td>\n",
       "      <td>0.0</td>\n",
       "      <td>1</td>\n",
       "    </tr>\n",
       "    <tr>\n",
       "      <th>2</th>\n",
       "      <td>0EE9337825851032864889A</td>\n",
       "      <td>81716</td>\n",
       "      <td>2007-01-05 15:00:47.090000000</td>\n",
       "      <td>HR</td>\n",
       "      <td>36</td>\n",
       "      <td>Completed</td>\n",
       "      <td>2009-12-17 00:00:00</td>\n",
       "      <td>0.28269</td>\n",
       "      <td>0.2750</td>\n",
       "      <td>0.2400</td>\n",
       "      <td>...</td>\n",
       "      <td>-24.20</td>\n",
       "      <td>0.0</td>\n",
       "      <td>0.0</td>\n",
       "      <td>0.0</td>\n",
       "      <td>0.0</td>\n",
       "      <td>1.0</td>\n",
       "      <td>0</td>\n",
       "      <td>0</td>\n",
       "      <td>0.0</td>\n",
       "      <td>41</td>\n",
       "    </tr>\n",
       "    <tr>\n",
       "      <th>3</th>\n",
       "      <td>0EF5356002482715299901A</td>\n",
       "      <td>658116</td>\n",
       "      <td>2012-10-22 11:02:35.010000000</td>\n",
       "      <td>NaN</td>\n",
       "      <td>36</td>\n",
       "      <td>Current</td>\n",
       "      <td>NaN</td>\n",
       "      <td>0.12528</td>\n",
       "      <td>0.0974</td>\n",
       "      <td>0.0874</td>\n",
       "      <td>...</td>\n",
       "      <td>-108.01</td>\n",
       "      <td>0.0</td>\n",
       "      <td>0.0</td>\n",
       "      <td>0.0</td>\n",
       "      <td>0.0</td>\n",
       "      <td>1.0</td>\n",
       "      <td>0</td>\n",
       "      <td>0</td>\n",
       "      <td>0.0</td>\n",
       "      <td>158</td>\n",
       "    </tr>\n",
       "    <tr>\n",
       "      <th>4</th>\n",
       "      <td>0F023589499656230C5E3E2</td>\n",
       "      <td>909464</td>\n",
       "      <td>2013-09-14 18:38:39.097000000</td>\n",
       "      <td>NaN</td>\n",
       "      <td>36</td>\n",
       "      <td>Current</td>\n",
       "      <td>NaN</td>\n",
       "      <td>0.24614</td>\n",
       "      <td>0.2085</td>\n",
       "      <td>0.1985</td>\n",
       "      <td>...</td>\n",
       "      <td>-60.27</td>\n",
       "      <td>0.0</td>\n",
       "      <td>0.0</td>\n",
       "      <td>0.0</td>\n",
       "      <td>0.0</td>\n",
       "      <td>1.0</td>\n",
       "      <td>0</td>\n",
       "      <td>0</td>\n",
       "      <td>0.0</td>\n",
       "      <td>20</td>\n",
       "    </tr>\n",
       "  </tbody>\n",
       "</table>\n",
       "<p>5 rows × 81 columns</p>\n",
       "</div>"
      ],
      "text/plain": [
       "                ListingKey  ListingNumber            ListingCreationDate  \\\n",
       "0  1021339766868145413AB3B         193129  2007-08-26 19:09:29.263000000   \n",
       "1  10273602499503308B223C1        1209647  2014-02-27 08:28:07.900000000   \n",
       "2  0EE9337825851032864889A          81716  2007-01-05 15:00:47.090000000   \n",
       "3  0EF5356002482715299901A         658116  2012-10-22 11:02:35.010000000   \n",
       "4  0F023589499656230C5E3E2         909464  2013-09-14 18:38:39.097000000   \n",
       "\n",
       "  CreditGrade  Term LoanStatus           ClosedDate  BorrowerAPR  \\\n",
       "0           C    36  Completed  2009-08-14 00:00:00      0.16516   \n",
       "1         NaN    36    Current                  NaN      0.12016   \n",
       "2          HR    36  Completed  2009-12-17 00:00:00      0.28269   \n",
       "3         NaN    36    Current                  NaN      0.12528   \n",
       "4         NaN    36    Current                  NaN      0.24614   \n",
       "\n",
       "   BorrowerRate  LenderYield  ...  LP_ServiceFees  LP_CollectionFees  \\\n",
       "0        0.1580       0.1380  ...         -133.18                0.0   \n",
       "1        0.0920       0.0820  ...            0.00                0.0   \n",
       "2        0.2750       0.2400  ...          -24.20                0.0   \n",
       "3        0.0974       0.0874  ...         -108.01                0.0   \n",
       "4        0.2085       0.1985  ...          -60.27                0.0   \n",
       "\n",
       "   LP_GrossPrincipalLoss  LP_NetPrincipalLoss LP_NonPrincipalRecoverypayments  \\\n",
       "0                    0.0                  0.0                             0.0   \n",
       "1                    0.0                  0.0                             0.0   \n",
       "2                    0.0                  0.0                             0.0   \n",
       "3                    0.0                  0.0                             0.0   \n",
       "4                    0.0                  0.0                             0.0   \n",
       "\n",
       "   PercentFunded  Recommendations InvestmentFromFriendsCount  \\\n",
       "0            1.0                0                          0   \n",
       "1            1.0                0                          0   \n",
       "2            1.0                0                          0   \n",
       "3            1.0                0                          0   \n",
       "4            1.0                0                          0   \n",
       "\n",
       "  InvestmentFromFriendsAmount Investors  \n",
       "0                         0.0       258  \n",
       "1                         0.0         1  \n",
       "2                         0.0        41  \n",
       "3                         0.0       158  \n",
       "4                         0.0        20  \n",
       "\n",
       "[5 rows x 81 columns]"
      ]
     },
     "execution_count": 180,
     "metadata": {},
     "output_type": "execute_result"
    }
   ],
   "source": [
    "#Importing CSV and looking at columns\n",
    "df = pd.read_csv(\"prosperLoanData.csv\")\n",
    "df.head(5)"
   ]
  },
  {
   "cell_type": "code",
   "execution_count": 181,
   "metadata": {},
   "outputs": [
    {
     "data": {
      "text/plain": [
       "Current                   56576\n",
       "Completed                 38074\n",
       "Chargedoff                11992\n",
       "Defaulted                  5018\n",
       "Past Due (1-15 days)        806\n",
       "Past Due (31-60 days)       363\n",
       "Past Due (61-90 days)       313\n",
       "Past Due (91-120 days)      304\n",
       "Past Due (16-30 days)       265\n",
       "FinalPaymentInProgress      205\n",
       "Past Due (>120 days)         16\n",
       "Cancelled                     5\n",
       "Name: LoanStatus, dtype: int64"
      ]
     },
     "execution_count": 181,
     "metadata": {},
     "output_type": "execute_result"
    }
   ],
   "source": [
    "#Looking to see loan status types\n",
    "df[\"LoanStatus\"].value_counts()"
   ]
  },
  {
   "cell_type": "markdown",
   "metadata": {},
   "source": [
    "Seems like there is enough data to look into relationships for defaulted loans. I will look into if there could be any patterns in the defaulted loans."
   ]
  },
  {
   "cell_type": "code",
   "execution_count": 182,
   "metadata": {},
   "outputs": [
    {
     "data": {
      "text/plain": [
       "C     5649\n",
       "D     5153\n",
       "B     4389\n",
       "AA    3509\n",
       "HR    3508\n",
       "A     3315\n",
       "E     3289\n",
       "NC     141\n",
       "Name: CreditGrade, dtype: int64"
      ]
     },
     "execution_count": 182,
     "metadata": {},
     "output_type": "execute_result"
    }
   ],
   "source": [
    "#Looking into the credit grade types\n",
    "df[\"CreditGrade\"].value_counts()"
   ]
  },
  {
   "cell_type": "code",
   "execution_count": 183,
   "metadata": {},
   "outputs": [
    {
     "data": {
      "text/plain": [
       "(5018, 81)"
      ]
     },
     "execution_count": 183,
     "metadata": {},
     "output_type": "execute_result"
    }
   ],
   "source": [
    "#Making new variable for defaulted loans\n",
    "defaulted = df.query(\"LoanStatus == 'Defaulted'\")\n",
    "#Checking to see there is 5018\n",
    "defaulted.shape"
   ]
  },
  {
   "cell_type": "code",
   "execution_count": 184,
   "metadata": {},
   "outputs": [
    {
     "data": {
      "text/plain": [
       "ListingKey                     5018\n",
       "ListingNumber                  5018\n",
       "ListingCreationDate            5018\n",
       "CreditGrade                       8\n",
       "Term                              3\n",
       "                               ... \n",
       "PercentFunded                    18\n",
       "Recommendations                   6\n",
       "InvestmentFromFriendsCount        4\n",
       "InvestmentFromFriendsAmount      49\n",
       "Investors                       501\n",
       "Length: 81, dtype: int64"
      ]
     },
     "execution_count": 184,
     "metadata": {},
     "output_type": "execute_result"
    }
   ],
   "source": [
    "#double check no duplicate loans (Done with cleaning which isn't included in this project)\n",
    "defaulted.nunique()"
   ]
  },
  {
   "cell_type": "code",
   "execution_count": 185,
   "metadata": {},
   "outputs": [
    {
     "data": {
      "text/plain": [
       "HR    891\n",
       "C     729\n",
       "D     684\n",
       "E     665\n",
       "B     493\n",
       "A     283\n",
       "AA    201\n",
       "NC     64\n",
       "Name: CreditGrade, dtype: int64"
      ]
     },
     "execution_count": 185,
     "metadata": {},
     "output_type": "execute_result"
    }
   ],
   "source": [
    "#Looking at value counts to see if there is a relation \n",
    "defaulted[\"CreditGrade\"].value_counts()\n"
   ]
  },
  {
   "cell_type": "code",
   "execution_count": 318,
   "metadata": {},
   "outputs": [
    {
     "data": {
      "image/png": "[encoded data removed]",
      "text/plain": [
       "<Figure size 432x288 with 1 Axes>"
      ]
     },
     "metadata": {
      "needs_background": "light"
     },
     "output_type": "display_data"
    }
   ],
   "source": [
    "#Exploring relations\n",
    "base_color = sb.color_palette()[0]\n",
    "sb.countplot(data=defaulted,x=\"CreditGrade\",order=[\"A\",\"AA\",\"B\",\"C\",\"D\",\"E\",\"HR\",\"NC\"],color=base_color).set_title(\"Credit grades for default loans\");"
   ]
  },
  {
   "cell_type": "markdown",
   "metadata": {},
   "source": [
    "Seems like a pattern with the lower grades defaulting. More lower grade loans are defaulting. I will explore this more and compare it to the overall data, then look to see if there are any of factors relating to default loans."
   ]
  },
  {
   "cell_type": "code",
   "execution_count": 187,
   "metadata": {},
   "outputs": [
    {
     "data": {
      "text/plain": [
       "HR    0.222195\n",
       "C     0.181796\n",
       "D     0.170574\n",
       "E     0.165835\n",
       "B     0.122943\n",
       "A     0.070574\n",
       "AA    0.050125\n",
       "NC    0.015960\n",
       "Name: CreditGrade, dtype: float64"
      ]
     },
     "execution_count": 187,
     "metadata": {},
     "output_type": "execute_result"
    }
   ],
   "source": [
    "#Looking at it in terms of %\n",
    "\n",
    "defaulted[\"CreditGrade\"].value_counts(normalize=True)\n"
   ]
  },
  {
   "cell_type": "code",
   "execution_count": 189,
   "metadata": {},
   "outputs": [
    {
     "data": {
      "text/plain": [
       "0    4697\n",
       "1     277\n",
       "2      35\n",
       "3       7\n",
       "7       1\n",
       "4       1\n",
       "Name: Recommendations, dtype: int64"
      ]
     },
     "execution_count": 189,
     "metadata": {},
     "output_type": "execute_result"
    }
   ],
   "source": [
    "#Looking to see if recommendations could have a factor\n",
    "defaulted[\"Recommendations\"].value_counts()\n"
   ]
  },
  {
   "cell_type": "code",
   "execution_count": 190,
   "metadata": {},
   "outputs": [
    {
     "data": {
      "text/plain": [
       "0    0.936030\n",
       "1    0.055201\n",
       "2    0.006975\n",
       "3    0.001395\n",
       "7    0.000199\n",
       "4    0.000199\n",
       "Name: Recommendations, dtype: float64"
      ]
     },
     "execution_count": 190,
     "metadata": {},
     "output_type": "execute_result"
    }
   ],
   "source": [
    "#As a percentage\n",
    "defaulted[\"Recommendations\"].value_counts(normalize=True)"
   ]
  },
  {
   "cell_type": "code",
   "execution_count": 191,
   "metadata": {},
   "outputs": [
    {
     "data": {
      "text/plain": [
       "0     109678\n",
       "1       3516\n",
       "2        568\n",
       "3        108\n",
       "4         26\n",
       "5         14\n",
       "9          6\n",
       "7          5\n",
       "6          4\n",
       "8          3\n",
       "16         2\n",
       "18         2\n",
       "24         1\n",
       "14         1\n",
       "19         1\n",
       "21         1\n",
       "39         1\n",
       "Name: Recommendations, dtype: int64"
      ]
     },
     "execution_count": 191,
     "metadata": {},
     "output_type": "execute_result"
    }
   ],
   "source": [
    "#Comparing it to overall\n",
    "df[\"Recommendations\"].value_counts()"
   ]
  },
  {
   "cell_type": "code",
   "execution_count": 192,
   "metadata": {},
   "outputs": [
    {
     "data": {
      "text/plain": [
       "0     0.962620\n",
       "1     0.030859\n",
       "2     0.004985\n",
       "3     0.000948\n",
       "4     0.000228\n",
       "5     0.000123\n",
       "9     0.000053\n",
       "7     0.000044\n",
       "6     0.000035\n",
       "8     0.000026\n",
       "16    0.000018\n",
       "18    0.000018\n",
       "24    0.000009\n",
       "14    0.000009\n",
       "19    0.000009\n",
       "21    0.000009\n",
       "39    0.000009\n",
       "Name: Recommendations, dtype: float64"
      ]
     },
     "execution_count": 192,
     "metadata": {},
     "output_type": "execute_result"
    }
   ],
   "source": [
    "df[\"Recommendations\"].value_counts(normalize=True)\n",
    "#It is slightly lower but can not draw conclusions from this data"
   ]
  },
  {
   "cell_type": "code",
   "execution_count": 193,
   "metadata": {},
   "outputs": [
    {
     "data": {
      "text/plain": [
       "36    4822\n",
       "60     186\n",
       "12      10\n",
       "Name: Term, dtype: int64"
      ]
     },
     "execution_count": 193,
     "metadata": {},
     "output_type": "execute_result"
    }
   ],
   "source": [
    "#Will look into if term has any patterns in default loans\n",
    "defaulted[\"Term\"].value_counts()"
   ]
  },
  {
   "cell_type": "code",
   "execution_count": 194,
   "metadata": {},
   "outputs": [
    {
     "data": {
      "text/plain": [
       "36    87778\n",
       "60    24545\n",
       "12     1614\n",
       "Name: Term, dtype: int64"
      ]
     },
     "execution_count": 194,
     "metadata": {},
     "output_type": "execute_result"
    }
   ],
   "source": [
    "df[\"Term\"].value_counts()\n",
    "#Seems like 36 months is the most popular overall loan, so it would be hard to draw any conclusions"
   ]
  },
  {
   "cell_type": "code",
   "execution_count": 295,
   "metadata": {},
   "outputs": [
    {
     "data": {
      "image/png": "[encoded data removed]",
      "text/plain": [
       "<Figure size 1080x360 with 2 Axes>"
      ]
     },
     "metadata": {
      "needs_background": "light"
     },
     "output_type": "display_data"
    }
   ],
   "source": [
    "#Now will look into the interest/APR\n",
    "#Using a his as it's a distibution of numeric variables\n",
    "#Comparing default to all loans\n",
    "plt.figure(figsize = [15, 5])\n",
    "plt.subplot(1, 2, 1)\n",
    "plt.hist(defaulted[\"BorrowerAPR\"]);\n",
    "plt.title(\"Borrower APR for Default loans\")\n",
    "plt.xlabel(\"Borrower APR\");\n",
    "plt.ylabel(\"Number of Loans\");\n",
    "\n",
    "plt.subplot(1, 2, 2)\n",
    "plt.hist(df[\"BorrowerAPR\"]);\n",
    "plt.title(\"Borrower APR for all loans\")\n",
    "plt.xlabel(\"Borrower APR\");\n",
    "plt.ylabel(\"Number of Loans\");"
   ]
  },
  {
   "cell_type": "markdown",
   "metadata": {},
   "source": [
    "It's possible moe data will be needed but from the histograms it looks like a higher APR could increase the liklihood of a default loan."
   ]
  },
  {
   "cell_type": "code",
   "execution_count": 197,
   "metadata": {},
   "outputs": [
    {
     "data": {
      "image/png": "[encoded data removed]",
      "text/plain": [
       "<Figure size 432x288 with 2 Axes>"
      ]
     },
     "metadata": {
      "needs_background": "light"
     },
     "output_type": "display_data"
    }
   ],
   "source": [
    "#Will look into APR and rate\n",
    "#Plotting a heatmap \n",
    "plt.hist2d(data=defaulted,x=\"BorrowerAPR\",y=\"BorrowerRate\",cmin = 0.5);\n",
    "plt.colorbar();\n",
    "plt.xlabel(\"Borrower APR\");\n",
    "plt.ylabel(\"Borrower Rate\");"
   ]
  },
  {
   "cell_type": "markdown",
   "metadata": {},
   "source": [
    "The heat map shows similar results to the previous histograms, this time plotted against borrower rate. There is a relationship between the two but they're similar rates so that is expected."
   ]
  },
  {
   "cell_type": "code",
   "execution_count": 253,
   "metadata": {},
   "outputs": [
    {
     "data": {
      "text/plain": [
       "Full-time        2217\n",
       "Not available    1204\n",
       "Employed          630\n",
       "Self-employed     246\n",
       "Part-time          60\n",
       "Retired            58\n",
       "Other              54\n",
       "Not employed       27\n",
       "Name: EmploymentStatus, dtype: int64"
      ]
     },
     "execution_count": 253,
     "metadata": {},
     "output_type": "execute_result"
    }
   ],
   "source": [
    "#Will look into employment status to see if there is a strong link between default loans\n",
    "defaulted[\"EmploymentStatus\"].value_counts()"
   ]
  },
  {
   "cell_type": "code",
   "execution_count": 254,
   "metadata": {},
   "outputs": [
    {
     "data": {
      "text/plain": [
       "Not displayed     1747\n",
       "$25,000-49,999    1290\n",
       "$50,000-74,999     874\n",
       "$75,000-99,999     375\n",
       "$1-24,999          334\n",
       "$100,000+          322\n",
       "$0                  51\n",
       "Not employed        25\n",
       "Name: IncomeRange, dtype: int64"
      ]
     },
     "execution_count": 254,
     "metadata": {},
     "output_type": "execute_result"
    }
   ],
   "source": [
    "#Now a look into income\n",
    "defaulted[\"IncomeRange\"].value_counts()\n",
    "#Not enough data to visualise and explore"
   ]
  },
  {
   "cell_type": "code",
   "execution_count": 280,
   "metadata": {},
   "outputs": [
    {
     "data": {
      "text/plain": [
       "15        4000\n",
       "23        2000\n",
       "107       4000\n",
       "128       1000\n",
       "138       3000\n",
       "          ... \n",
       "113840    1400\n",
       "113847    8000\n",
       "113914    3000\n",
       "113918    7000\n",
       "113926    3000\n",
       "Name: LoanOriginalAmount, Length: 5018, dtype: int64"
      ]
     },
     "execution_count": 280,
     "metadata": {},
     "output_type": "execute_result"
    }
   ],
   "source": [
    "#Will look into the loan amounts because maybe that is the main factor for HR as income doesn't seem to be \n",
    "defaulted[\"LoanOriginalAmount\"]\n"
   ]
  },
  {
   "cell_type": "code",
   "execution_count": 282,
   "metadata": {},
   "outputs": [
    {
     "data": {
      "image/png": "[encoded data removed]",
      "text/plain": [
       "<Figure size 432x288 with 1 Axes>"
      ]
     },
     "metadata": {
      "needs_background": "light"
     },
     "output_type": "display_data"
    }
   ],
   "source": [
    "#Looking to see the most common loan amounts for default\n",
    "sb.distplot(defaulted[\"LoanOriginalAmount\"]);"
   ]
  },
  {
   "cell_type": "markdown",
   "metadata": {},
   "source": [
    "The plot above shows the amount of default loans are mostly under $5000. "
   ]
  },
  {
   "cell_type": "code",
   "execution_count": 284,
   "metadata": {},
   "outputs": [
    {
     "data": {
      "image/png": "[encoded data removed]",
      "text/plain": [
       "<Figure size 432x288 with 1 Axes>"
      ]
     },
     "metadata": {
      "needs_background": "light"
     },
     "output_type": "display_data"
    }
   ],
   "source": [
    "#Looking into monthly payments\n",
    "sb.distplot(defaulted[\"MonthlyLoanPayment\"]);"
   ]
  },
  {
   "cell_type": "markdown",
   "metadata": {},
   "source": [
    "This shows the monthly payment for the loans that were defaulted, can see that the majority are below $200 a month. Both of these show that it may not be the amount being borrowed but possibly other factors."
   ]
  },
  {
   "cell_type": "code",
   "execution_count": 269,
   "metadata": {},
   "outputs": [
    {
     "data": {
      "text/plain": [
       "6.0     173\n",
       "5.0     165\n",
       "8.0     139\n",
       "7.0     135\n",
       "4.0     119\n",
       "3.0      75\n",
       "9.0      71\n",
       "2.0      70\n",
       "1.0      37\n",
       "10.0     20\n",
       "11.0      1\n",
       "Name: ProsperScore, dtype: int64"
      ]
     },
     "execution_count": 269,
     "metadata": {},
     "output_type": "execute_result"
    }
   ],
   "source": [
    "#Now I will look into the propsper score to see relations to loan grades and defaults\n",
    "defaulted[\"ProsperScore\"].value_counts()\n"
   ]
  },
  {
   "cell_type": "code",
   "execution_count": 317,
   "metadata": {},
   "outputs": [
    {
     "data": {
      "image/png": "[encoded data removed]",
      "text/plain": [
       "<Figure size 432x288 with 1 Axes>"
      ]
     },
     "metadata": {
      "needs_background": "light"
     },
     "output_type": "display_data"
    }
   ],
   "source": [
    "#Visually looking into prosper score\n",
    "sb.countplot(data=defaulted,x=\"ProsperScore\",color=base_color).set_title(\"Prosper Scores for default loans\");"
   ]
  },
  {
   "cell_type": "markdown",
   "metadata": {},
   "source": [
    "Can see for the defaulted loans above that the majority have an average prosper score around 5/6. "
   ]
  },
  {
   "cell_type": "code",
   "execution_count": 323,
   "metadata": {},
   "outputs": [
    {
     "data": {
      "text/plain": [
       "6.0     0.172139\n",
       "5.0     0.164179\n",
       "8.0     0.138308\n",
       "7.0     0.134328\n",
       "4.0     0.118408\n",
       "3.0     0.074627\n",
       "9.0     0.070647\n",
       "2.0     0.069652\n",
       "1.0     0.036816\n",
       "10.0    0.019900\n",
       "11.0    0.000995\n",
       "Name: ProsperScore, dtype: float64"
      ]
     },
     "execution_count": 323,
     "metadata": {},
     "output_type": "execute_result"
    }
   ],
   "source": [
    "#Checking score percentage to compare with current later\n",
    "defaulted[\"ProsperScore\"].value_counts(normalize=True)"
   ]
  },
  {
   "cell_type": "markdown",
   "metadata": {},
   "source": [
    "The plot above shows for the whole data. Compared to the previous, it's visible that that a higher prosper score significantly descreases the likelihood of them defaulting."
   ]
  },
  {
   "cell_type": "code",
   "execution_count": 198,
   "metadata": {},
   "outputs": [],
   "source": [
    "#I want to look into current loans and see if there is any loans with similar patterns as the defaulted ones\n",
    "#First will quickly look into completed loans\n"
   ]
  },
  {
   "cell_type": "code",
   "execution_count": 204,
   "metadata": {},
   "outputs": [
    {
     "data": {
      "text/plain": [
       "(38074, 81)"
      ]
     },
     "execution_count": 204,
     "metadata": {},
     "output_type": "execute_result"
    }
   ],
   "source": [
    "completed = df.query(\"LoanStatus == 'Completed'\")\n",
    "completed.shape"
   ]
  },
  {
   "cell_type": "code",
   "execution_count": 315,
   "metadata": {},
   "outputs": [
    {
     "data": {
      "image/png": "[encoded data removed]",
      "text/plain": [
       "<Figure size 432x288 with 1 Axes>"
      ]
     },
     "metadata": {
      "needs_background": "light"
     },
     "output_type": "display_data"
    }
   ],
   "source": [
    "#For all data and prosper score\n",
    "sb.countplot(data=df,x=\"ProsperScore\",color=base_color).set_title(\"Prosper Scores for all loans\");\n"
   ]
  },
  {
   "cell_type": "code",
   "execution_count": 314,
   "metadata": {},
   "outputs": [
    {
     "data": {
      "image/png": "[encoded data removed]",
      "text/plain": [
       "<Figure size 432x288 with 1 Axes>"
      ]
     },
     "metadata": {
      "needs_background": "light"
     },
     "output_type": "display_data"
    }
   ],
   "source": [
    "#Comment on plot above is below\n",
    "#Want to look into Prosper Score, different distribution to previous ones. \n",
    "#This is left skewed \n",
    "sb.countplot(data=completed,x=\"ProsperScore\",color=base_color).set_title(\"Prosper Scores for completed loans\");"
   ]
  },
  {
   "cell_type": "markdown",
   "metadata": {},
   "source": [
    "The two plots above shows for the whole data. Compared to the previous, it's visible that that a higher prosper score significantly descreases the likelihood of them defaulting. The completed loan plot is left skewed, unlike the others that take more of a normal distribution."
   ]
  },
  {
   "cell_type": "code",
   "execution_count": 316,
   "metadata": {},
   "outputs": [
    {
     "data": {
      "image/png": "[encoded data removed]",
      "text/plain": [
       "<Figure size 432x288 with 1 Axes>"
      ]
     },
     "metadata": {
      "needs_background": "light"
     },
     "output_type": "display_data"
    }
   ],
   "source": [
    "sb.countplot(data=completed,x=\"CreditGrade\",order=[\"A\",\"AA\",\"B\",\"C\",\"D\",\"E\",\"HR\",\"NC\"],color=base_color).set_title(\"Credit grade for completed loans\");"
   ]
  },
  {
   "cell_type": "markdown",
   "metadata": {},
   "source": [
    "You can see a clear difference in credit grades and completed loans. This is weighted towards the higher end of the grades."
   ]
  },
  {
   "cell_type": "code",
   "execution_count": 209,
   "metadata": {},
   "outputs": [
    {
     "data": {
      "text/plain": [
       "C     3609\n",
       "D     3126\n",
       "B     2987\n",
       "AA    2969\n",
       "A     2505\n",
       "E     1678\n",
       "HR    1372\n",
       "NC      42\n",
       "Name: CreditGrade, dtype: int64"
      ]
     },
     "execution_count": 209,
     "metadata": {},
     "output_type": "execute_result"
    }
   ],
   "source": [
    "completed[\"CreditGrade\"].value_counts()"
   ]
  },
  {
   "cell_type": "code",
   "execution_count": 218,
   "metadata": {},
   "outputs": [
    {
     "data": {
      "text/plain": [
       "C     0.197343\n",
       "D     0.170932\n",
       "B     0.163331\n",
       "AA    0.162347\n",
       "A     0.136975\n",
       "E     0.091754\n",
       "HR    0.075022\n",
       "NC    0.002297\n",
       "Name: CreditGrade, dtype: float64"
      ]
     },
     "execution_count": 218,
     "metadata": {},
     "output_type": "execute_result"
    }
   ],
   "source": [
    "#HR/E grades the lowest completed (expected)\n",
    "completed[\"CreditGrade\"].value_counts(normalize=True)"
   ]
  },
  {
   "cell_type": "code",
   "execution_count": 219,
   "metadata": {},
   "outputs": [
    {
     "data": {
      "text/plain": [
       "C     0.195109\n",
       "D     0.177978\n",
       "B     0.151591\n",
       "AA    0.121196\n",
       "HR    0.121162\n",
       "A     0.114496\n",
       "E     0.113598\n",
       "NC    0.004870\n",
       "Name: CreditGrade, dtype: float64"
      ]
     },
     "execution_count": 219,
     "metadata": {},
     "output_type": "execute_result"
    }
   ],
   "source": [
    "#Checking the overall amount of grades in % to make sure there isn't more HR(Should of done at the start really)\n",
    "df[\"CreditGrade\"].value_counts(normalize=True)"
   ]
  },
  {
   "cell_type": "code",
   "execution_count": 245,
   "metadata": {},
   "outputs": [
    {
     "data": {
      "image/png": "[encoded data removed]",
      "text/plain": [
       "<Figure size 720x360 with 2 Axes>"
      ]
     },
     "metadata": {},
     "output_type": "display_data"
    }
   ],
   "source": [
    "#Looking at % of HR grades completed vs default \n",
    "\n",
    "#% figures takens from 2 cells above\n",
    "#First plot is completed loans\n",
    "plt.figure(figsize = [10, 5])\n",
    "plt.subplot(1, 2, 1)\n",
    "completed_HR = [0.075022,.924978]\n",
    "plt.pie(completed_HR,labels = [\"HR Grade\",\"Other Grade\"],autopct='%1.1f%%')\n",
    "plt.title(\"Completed Loans- % HR Grade\");\n",
    "plt.legend();\n",
    "\n",
    "\n",
    "\n",
    "#Default loans % taken from previous\n",
    "plt.subplot(1, 2, 2)\n",
    "default_HR =[0.222195,0.777805]\n",
    "plt.pie(default_HR,labels = [\"HR Grade\",\"Other Grade\"],autopct='%1.1f%%');\n",
    "plt.title(\"Default Loans- % HR Grade\");\n",
    "plt.legend();"
   ]
  },
  {
   "cell_type": "markdown",
   "metadata": {},
   "source": [
    "Seems like there is quite a big gap between the proportion of HR grade loans that were defaulted and completed."
   ]
  },
  {
   "cell_type": "code",
   "execution_count": 299,
   "metadata": {},
   "outputs": [
    {
     "data": {
      "text/plain": [
       "(56576, 81)"
      ]
     },
     "execution_count": 299,
     "metadata": {},
     "output_type": "execute_result"
    }
   ],
   "source": [
    "#Will take a look into current loans and see if there could be any possible patterns to be catious about\n",
    "current = df.query(\"LoanStatus == 'Current'\")\n",
    "current.shape\n",
    "#There is no grade for current data"
   ]
  },
  {
   "cell_type": "code",
   "execution_count": 320,
   "metadata": {},
   "outputs": [
    {
     "data": {
      "image/png": "[encoded data removed]",
      "text/plain": [
       "<Figure size 432x288 with 1 Axes>"
      ]
     },
     "metadata": {
      "needs_background": "light"
     },
     "output_type": "display_data"
    }
   ],
   "source": [
    "sb.countplot(data=current,x=\"ProsperScore\",color=base_color).set_title(\"Prosper Scores for current loans\");"
   ]
  },
  {
   "cell_type": "markdown",
   "metadata": {},
   "source": [
    "A large portion of current loans are being borrowed by the middling scores. The 4 score stands out the most here."
   ]
  },
  {
   "cell_type": "code",
   "execution_count": 324,
   "metadata": {},
   "outputs": [
    {
     "data": {
      "text/plain": [
       "4.0     0.167492\n",
       "6.0     0.141067\n",
       "8.0     0.128411\n",
       "7.0     0.127439\n",
       "5.0     0.109976\n",
       "3.0     0.102588\n",
       "2.0     0.074166\n",
       "9.0     0.063843\n",
       "10.0    0.053980\n",
       "11.0    0.025081\n",
       "1.0     0.005957\n",
       "Name: ProsperScore, dtype: float64"
      ]
     },
     "execution_count": 324,
     "metadata": {},
     "output_type": "execute_result"
    }
   ],
   "source": [
    "#Checking score percentage \n",
    "current[\"ProsperScore\"].value_counts(normalize=True)"
   ]
  },
  {
   "cell_type": "code",
   "execution_count": 308,
   "metadata": {},
   "outputs": [
    {
     "data": {
      "image/png": "[encoded data removed]",
      "text/plain": [
       "<Figure size 432x288 with 2 Axes>"
      ]
     },
     "metadata": {
      "needs_background": "light"
     },
     "output_type": "display_data"
    }
   ],
   "source": [
    "#Looking at APR and rates\n",
    "plt.hist2d(data=current,x=\"BorrowerAPR\",y=\"BorrowerRate\",cmin = 0.5);\n",
    "plt.colorbar();\n",
    "plt.xlabel(\"Borrower APR\");\n",
    "plt.ylabel(\"Borrower Rate\");"
   ]
  },
  {
   "cell_type": "markdown",
   "metadata": {},
   "source": [
    "The heatmap with current loans shows the current ones being weighted towards a lower APR and borrower rate, which is a good sign for current loans."
   ]
  },
  {
   "cell_type": "code",
   "execution_count": 311,
   "metadata": {},
   "outputs": [
    {
     "data": {
      "text/plain": [
       "4.0     0.167492\n",
       "6.0     0.141067\n",
       "8.0     0.128411\n",
       "7.0     0.127439\n",
       "5.0     0.109976\n",
       "3.0     0.102588\n",
       "2.0     0.074166\n",
       "9.0     0.063843\n",
       "10.0    0.053980\n",
       "11.0    0.025081\n",
       "1.0     0.005957\n",
       "Name: ProsperScore, dtype: float64"
      ]
     },
     "execution_count": 311,
     "metadata": {},
     "output_type": "execute_result"
    }
   ],
   "source": [
    "#% of Prosper Scores for current loans \n",
    "current[\"ProsperScore\"].value_counts(normalize=True)"
   ]
  },
  {
   "cell_type": "code",
   "execution_count": null,
   "metadata": {},
   "outputs": [],
   "source": []
  }
 ],
 "metadata": {
  "kernelspec": {
   "display_name": "Python 3",
   "language": "python",
   "name": "python3"
  },
  "language_info": {
   "codemirror_mode": {
    "name": "ipython",
    "version": 3
   },
   "file_extension": ".py",
   "mimetype": "text/x-python",
   "name": "python",
   "nbconvert_exporter": "python",
   "pygments_lexer": "ipython3",
   "version": "3.7.7"
  }
 },
 "nbformat": 4,
 "nbformat_minor": 4
}
